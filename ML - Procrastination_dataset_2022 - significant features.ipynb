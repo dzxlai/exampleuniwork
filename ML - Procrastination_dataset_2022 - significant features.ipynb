{
 "cells": [
  {
   "cell_type": "code",
   "execution_count": 1,
   "id": "3b14506c",
   "metadata": {},
   "outputs": [],
   "source": [
    "import pandas as pd\n",
    "import numpy as np\n",
    "import matplotlib.pyplot as plt\n",
    "import seaborn as sns\n",
    "from sklearn.linear_model import LogisticRegression\n",
    "from sklearn.model_selection import train_test_split\n",
    "from sklearn.metrics import mean_squared_error"
   ]
  },
  {
   "cell_type": "code",
   "execution_count": 2,
   "id": "f5551c7f",
   "metadata": {},
   "outputs": [],
   "source": [
    "df = pd.read_csv('Procrastination_dataset_2022_postEDA.csv')\n",
    "df.drop(['Unnamed: 0', 'tasks put off avg'], inplace=True, axis=1)"
   ]
  },
  {
   "cell_type": "code",
   "execution_count": 3,
   "id": "4bde8028",
   "metadata": {
    "scrolled": false
   },
   "outputs": [
    {
     "data": {
      "text/plain": [
       "Index(['put off reading', 'put off evaluation', 'put off review',\n",
       "       'put off decision-making', 'put off writing report',\n",
       "       'put off completing documents', 'do not do anything', 'go back to bed',\n",
       "       'watch TV/films', 'eat/drink', 'talk with friends', 'socialise',\n",
       "       'walk/exercise', 'tidy room', 'do other less important tasks',\n",
       "       'talk about what I should do', 'plan what I should do',\n",
       "       'distracted by entertainment', 'distracted by new projects',\n",
       "       'importance of task', 'impending deadline', 'too many concurrent tasks',\n",
       "       'dislike task', 'no interest in task', 'bewildered to purpose of task',\n",
       "       'task difficulty', 'low self-efficacy'],\n",
       "      dtype='object')"
      ]
     },
     "execution_count": 3,
     "metadata": {},
     "output_type": "execute_result"
    }
   ],
   "source": [
    "df.columns"
   ]
  },
  {
   "cell_type": "markdown",
   "id": "0339639d",
   "metadata": {},
   "source": [
    "from ML algorithm, using logistic regression to predict 'low self-efficacy', the seemingly most features by calulating their importances are:<br>\n",
    "<br>\n",
    "'put off completing documents'<br>\n",
    "'distracted by new projects'<br>\n",
    "'importance of task'<br>\n",
    "'dislike task'<br>\n",
    "'bewildered by purpose of task'<br>\n",
    "'task difficulty'<br>\n",
    "<br>\n",
    "these findings are slightly different to when we looked at the data via EDA\n",
    "<br>\n",
    "<br>\n",
    "it would now be interesting to compare see how well these 'signigicant' features can by themeselves preserve and predict the data"
   ]
  },
  {
   "cell_type": "markdown",
   "id": "c18f07d4",
   "metadata": {},
   "source": [
    "<br>\n",
    "<br>\n",
    "\n",
    "## predicting 'low self-efficacy' as the target variable"
   ]
  },
  {
   "cell_type": "markdown",
   "id": "1e462ede",
   "metadata": {},
   "source": [
    "### logistic"
   ]
  },
  {
   "cell_type": "markdown",
   "id": "9a572f3f",
   "metadata": {},
   "source": [
    "### using significant features to predict outcome"
   ]
  },
  {
   "cell_type": "code",
   "execution_count": 4,
   "id": "470ab051",
   "metadata": {},
   "outputs": [
    {
     "data": {
      "text/plain": [
       "Index(['put off reading', 'put off evaluation', 'put off review',\n",
       "       'put off decision-making', 'put off writing report',\n",
       "       'put off completing documents', 'do not do anything', 'go back to bed',\n",
       "       'watch TV/films', 'eat/drink', 'talk with friends', 'socialise',\n",
       "       'walk/exercise', 'tidy room', 'do other less important tasks',\n",
       "       'talk about what I should do', 'plan what I should do',\n",
       "       'distracted by entertainment', 'distracted by new projects',\n",
       "       'importance of task', 'impending deadline', 'too many concurrent tasks',\n",
       "       'dislike task', 'no interest in task', 'bewildered to purpose of task',\n",
       "       'task difficulty', 'low self-efficacy'],\n",
       "      dtype='object')"
      ]
     },
     "execution_count": 4,
     "metadata": {},
     "output_type": "execute_result"
    }
   ],
   "source": [
    "df.columns"
   ]
  },
  {
   "cell_type": "code",
   "execution_count": 5,
   "id": "030efdc2",
   "metadata": {},
   "outputs": [],
   "source": [
    "# features and labels\n",
    "\n",
    "X = df.drop(['put off reading', 'put off evaluation', 'put off review',\n",
    "       'put off writing report',\n",
    "       'put off completing documents', 'do not do anything', 'go back to bed',\n",
    "       'watch TV/films', 'eat/drink', 'talk with friends', 'socialise',\n",
    "       'walk/exercise', 'tidy room', 'do other less important tasks',\n",
    "       'talk about what I should do', 'plan what I should do',\n",
    "       'distracted by entertainment',\n",
    "       'impending deadline', 'too many concurrent tasks',\n",
    "       'no interest in task',\n",
    "       'low self-efficacy'], axis=1).values\n",
    "y = df['low self-efficacy'].values\n",
    "\n",
    "y = y.reshape(-1,1)"
   ]
  },
  {
   "cell_type": "code",
   "execution_count": 6,
   "id": "61aeffb1",
   "metadata": {},
   "outputs": [],
   "source": [
    "# creating algorithm - logistic regression model\n",
    "logis_reg = LogisticRegression()"
   ]
  },
  {
   "cell_type": "code",
   "execution_count": 7,
   "id": "0b93217e",
   "metadata": {},
   "outputs": [],
   "source": [
    "# separating the data into training/testing\n",
    "# 0.2 = 20% of the data will be used for testing\n",
    "X_train, X_test, y_train, y_test = train_test_split(X, y, test_size=0.2, random_state=5)"
   ]
  },
  {
   "cell_type": "code",
   "execution_count": 8,
   "id": "be5f79f3",
   "metadata": {},
   "outputs": [
    {
     "name": "stderr",
     "output_type": "stream",
     "text": [
      "/Users/dominiclai/anaconda3/lib/python3.9/site-packages/sklearn/utils/validation.py:1111: DataConversionWarning: A column-vector y was passed when a 1d array was expected. Please change the shape of y to (n_samples, ), for example using ravel().\n",
      "  y = column_or_1d(y, warn=True)\n"
     ]
    }
   ],
   "source": [
    "# training the model\n",
    "logis_model = logis_reg.fit(X_train, y_train)"
   ]
  },
  {
   "cell_type": "code",
   "execution_count": 9,
   "id": "18c2d7f2",
   "metadata": {},
   "outputs": [
    {
     "name": "stdout",
     "output_type": "stream",
     "text": [
      "predictions:  [1 1 1 0 0 0 1 1 0 0 1 0 1 1 1 1 0 1 1 0 0]\n"
     ]
    }
   ],
   "source": [
    "logis_predictions = logis_model.predict(X_test)\n",
    "print(\"predictions: \", logis_predictions)"
   ]
  },
  {
   "cell_type": "markdown",
   "id": "3f4505f0",
   "metadata": {},
   "source": [
    "<br>\n",
    "\n",
    "#### accuracy of logis reg"
   ]
  },
  {
   "cell_type": "code",
   "execution_count": 10,
   "id": "2b02fb72",
   "metadata": {},
   "outputs": [],
   "source": [
    "# we use 'score' to obtain the accuracy of the model\n",
    "logis_score = logis_model.score(X_test, y_test)"
   ]
  },
  {
   "cell_type": "code",
   "execution_count": 11,
   "id": "bcdab52a",
   "metadata": {},
   "outputs": [
    {
     "name": "stdout",
     "output_type": "stream",
     "text": [
      "logis_score (accuracy):  0.6666666666666666\n"
     ]
    }
   ],
   "source": [
    "print(\"logis_score (accuracy): \", logis_score)"
   ]
  },
  {
   "cell_type": "code",
   "execution_count": 12,
   "id": "9e0b4754",
   "metadata": {
    "scrolled": true
   },
   "outputs": [
    {
     "name": "stdout",
     "output_type": "stream",
     "text": [
      "MSE:  0.3333333333333333\n"
     ]
    }
   ],
   "source": [
    "# mean squared error value - score\n",
    "print(\"MSE: \", mean_squared_error(y_test, logis_predictions))"
   ]
  },
  {
   "cell_type": "markdown",
   "id": "c7e79a5c",
   "metadata": {},
   "source": [
    "<br>\n",
    "\n",
    "#### plotting importance/significance of features"
   ]
  },
  {
   "cell_type": "code",
   "execution_count": 13,
   "id": "cb92a874",
   "metadata": {
    "scrolled": true
   },
   "outputs": [
    {
     "name": "stdout",
     "output_type": "stream",
     "text": [
      "coefficient:  [[-0.00194732  0.26108361  0.72674647 -0.28675316  0.46534513  1.29736446]]\n"
     ]
    }
   ],
   "source": [
    "# coefficient\n",
    "print(\"coefficient: \", logis_reg.coef_)"
   ]
  },
  {
   "cell_type": "code",
   "execution_count": 14,
   "id": "89acbc03",
   "metadata": {},
   "outputs": [
    {
     "data": {
      "image/png": "[encoded data removed]",
      "text/plain": [
       "<Figure size 432x288 with 1 Axes>"
      ]
     },
     "metadata": {
      "needs_background": "light"
     },
     "output_type": "display_data"
    }
   ],
   "source": [
    "X_features = df.drop(['put off reading', 'put off evaluation', 'put off review',\n",
    "       'put off writing report',\n",
    "       'put off completing documents', 'do not do anything', 'go back to bed',\n",
    "       'watch TV/films', 'eat/drink', 'talk with friends', 'socialise',\n",
    "       'walk/exercise', 'tidy room', 'do other less important tasks',\n",
    "       'talk about what I should do', 'plan what I should do',\n",
    "       'distracted by entertainment',\n",
    "       'impending deadline', 'too many concurrent tasks',\n",
    "       'no interest in task',\n",
    "       'low self-efficacy'], axis=1)\n",
    "\n",
    "feature = X_features.columns\n",
    "feature_significance = logis_reg.coef_[0]\n",
    "\n",
    "# creating a new pandas dataframe to be able to compare the coefficients\n",
    "df_feature_significance = pd.DataFrame({'feature': feature, 'feature_significance': feature_significance})\n",
    "\n",
    "plt.bar(df_feature_significance.feature, df_feature_significance.feature_significance)\n",
    "plt.xticks(rotation=90)\n",
    "plt.ylim(0,0.5)\n",
    "plt.ylabel('coefficient of feature')\n",
    "sns.despine()"
   ]
  },
  {
   "cell_type": "markdown",
   "id": "c8583c70",
   "metadata": {},
   "source": [
    "<br>\n",
    "<br>\n",
    "<br>\n",
    "<br>\n",
    "<br>\n",
    "<br>\n",
    "<br>\n",
    "<br>"
   ]
  },
  {
   "cell_type": "code",
   "execution_count": null,
   "id": "9746062a",
   "metadata": {},
   "outputs": [],
   "source": []
  }
 ],
 "metadata": {
  "kernelspec": {
   "display_name": "Python 3 (ipykernel)",
   "language": "python",
   "name": "python3"
  },
  "language_info": {
   "codemirror_mode": {
    "name": "ipython",
    "version": 3
   },
   "file_extension": ".py",
   "mimetype": "text/x-python",
   "name": "python",
   "nbconvert_exporter": "python",
   "pygments_lexer": "ipython3",
   "version": "3.9.7"
  }
 },
 "nbformat": 4,
 "nbformat_minor": 5
}
